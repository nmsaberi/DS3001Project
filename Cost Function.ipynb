{
 "cells": [
  {
   "cell_type": "code",
   "execution_count": null,
   "metadata": {},
   "outputs": [],
   "source": [
    "from math import sqrt\n",
    "import pandas as pd\n",
    "\n",
    "#reads from the 10000 point dataset we cleaned and created path may need to be changed\n",
    "df = pd.read_csv('C:\\\\Users\\Guy Katz\\Documents\\DS3001\\Lat Long 10000.csv')"
   ]
  },
  {
   "cell_type": "code",
   "execution_count": null,
   "metadata": {},
   "outputs": [],
   "source": [
    "def ra (place, t1, t2):\n",
    "    #uppercases all the letters of the location (our dataset is all caps)\n",
    "    place = place.upper()\n",
    "    \n",
    "    #if statement to see if that street is in our dataset\n",
    "    if df['Location'].str.contains(place).any():\n",
    "        \n",
    "        #finds the lat and lng values of the street name\n",
    "        lat = df.loc[df['Location'].str.contains(place), 'Latitude'].iloc[0]\n",
    "        lng = df.loc[df['Location'].str.contains(place), 'Longitude'].iloc[0]\n",
    "        \n",
    "        #creates a dataset of only the times they specified\n",
    "        tb = max(t1,t2)\n",
    "        ts = min(t1,t2)\n",
    "        dft = df[df['Issue time'] <= tb]\n",
    "        dft = dft[dft['Issue time'] >= ts]    \n",
    "        \n",
    "        #finds the total citations given in entire dataset in surrounding area\n",
    "        fines = 0\n",
    "        for latp, lngp in zip(df['Latitude'], df['Longitude']):\n",
    "            a = lat - latp\n",
    "            b = lng - lngp\n",
    "            c = sqrt(a*a  +  b*b)\n",
    "            \n",
    "            if c < 0.05:\n",
    "                fines += 1\n",
    "        \n",
    "        #finds total citations given within the times selected in surrounding area and total number citations in the timed dataset\n",
    "        tot_dft = len(dft)\n",
    "        finesb = 0\n",
    "        for latp, lngp in zip(dft['Latitude'], dft['Longitude']):\n",
    "            a = lat - latp\n",
    "            b = lng - lngp\n",
    "            c = sqrt(a*a  +  b*b)\n",
    "            \n",
    "            if c < 0.05:\n",
    "                finesb += 1\n",
    "        \n",
    "        #runs the equaltion and prints out a message\n",
    "        trouble = (fines+finesb)/(10000+tot_dft)*69.3\n",
    "        trouble = round(trouble, 2)\n",
    "        message = \"The present cost of parking illegally on \"+place+\" is $\"+str(trouble)\n",
    "    \n",
    "    #if location is not ini our dataset users are encouraged to try a nearby street\n",
    "    else:\n",
    "        message = \"That location is not in our database, perhaps try a nearby road to get a rough estimate.\"\n",
    "    \n",
    "    return message"
   ]
  }
 ],
 "metadata": {
  "kernelspec": {
   "display_name": "Python 3",
   "language": "python",
   "name": "python3"
  },
  "language_info": {
   "codemirror_mode": {
    "name": "ipython",
    "version": 3
   },
   "file_extension": ".py",
   "mimetype": "text/x-python",
   "name": "python",
   "nbconvert_exporter": "python",
   "pygments_lexer": "ipython3",
   "version": "3.6.4"
  }
 },
 "nbformat": 4,
 "nbformat_minor": 2
}
